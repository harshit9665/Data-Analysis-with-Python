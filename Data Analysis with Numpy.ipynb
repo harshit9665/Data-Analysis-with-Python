{
 "cells": [
  {
   "cell_type": "markdown",
   "metadata": {},
   "source": [
    "# Numpy, Scientific and Numeric library"
   ]
  },
  {
   "cell_type": "markdown",
   "metadata": {},
   "source": [
    "`Numerical Python` popularly known as `Numpy` is core library for scientific computing. It provides high performance multi-dimensional array object and tools for working with these objects. "
   ]
  },
  {
   "cell_type": "markdown",
   "metadata": {},
   "source": [
    "### 1. Comparing Python List vs Numpy array"
   ]
  },
  {
   "cell_type": "markdown",
   "metadata": {},
   "source": [
    "Numpy enables scientific computing and high performance tasks executions with multidimensional arrays. The Timer module from timeit library is used for the purpose of calculating the time that certain scripts take."
   ]
  },
  {
   "cell_type": "code",
   "execution_count": 1,
   "metadata": {},
   "outputs": [],
   "source": [
    "import numpy as np\n",
    "from timeit import Timer"
   ]
  },
  {
   "cell_type": "markdown",
   "metadata": {},
   "source": [
    "With imported libraries, we proceed to create two example arrays with numbers in the range [0, 999]"
   ]
  },
  {
   "cell_type": "code",
   "execution_count": 2,
   "metadata": {},
   "outputs": [],
   "source": [
    "size_of_vec = 10000\n",
    "X_list = range(size_of_vec)\n",
    "Y_list = range(size_of_vec)\n",
    "X = np.arange(size_of_vec)\n",
    "Y = np.arange(size_of_vec)"
   ]
  },
  {
   "cell_type": "markdown",
   "metadata": {},
   "source": [
    "To compare the performance of two scripts, one with `Python` and another with `Numpy`, we defined two user functions:"
   ]
  },
  {
   "cell_type": "code",
   "execution_count": 3,
   "metadata": {},
   "outputs": [],
   "source": [
    "def pure_python_version(): #Explicitly Python based with lists\n",
    "    Z = []\n",
    "    for i in range(len(X_list)):\n",
    "        Z.append(X_list[i] + Y_list[i])\n",
    "    \n",
    "def numpy_version(): #Explicitly Numpy based with vectorization\n",
    "    Z = X + Y "
   ]
  },
  {
   "cell_type": "markdown",
   "metadata": {},
   "source": [
    "We call the developed functions and measure the time it takes to execute them once:"
   ]
  },
  {
   "cell_type": "code",
   "execution_count": 4,
   "metadata": {},
   "outputs": [
    {
     "name": "stdout",
     "output_type": "stream",
     "text": [
      "Pure python version: 0.08564380000007077\n",
      "Numpy version: 0.056203999999979715\n"
     ]
    }
   ],
   "source": [
    "timer_obj1 = Timer(\"pure_python_version()\", \n",
    "                   \"from __main__ import pure_python_version\")\n",
    "timer_obj2 = Timer(\"numpy_version()\", \n",
    "                   \"from __main__ import numpy_version\")\n",
    "\n",
    "print(\"Pure python version:\",timer_obj1.timeit(10))\n",
    "print(\"Numpy version:\",timer_obj2.timeit(10))"
   ]
  },
  {
   "cell_type": "markdown",
   "metadata": {},
   "source": [
    "As we can see, the vectorized sum approach with Numpy is much faster than the purely Python based approach."
   ]
  },
  {
   "cell_type": "markdown",
   "metadata": {},
   "source": [
    "## 2.Creating Numpy array from Python list"
   ]
  },
  {
   "cell_type": "code",
   "execution_count": 7,
   "metadata": {},
   "outputs": [
    {
     "name": "stdout",
     "output_type": "stream",
     "text": [
      "<class 'list'>\n",
      "<class 'numpy.ndarray'>\n"
     ]
    }
   ],
   "source": [
    "heights =[165, 170, 171, 180, 189, 178 ]\n",
    "print(type(heights))\n",
    "heights_np = np.array(heights)\n",
    "print(type(heights_np))"
   ]
  },
  {
   "cell_type": "code",
   "execution_count": 8,
   "metadata": {},
   "outputs": [
    {
     "name": "stdout",
     "output_type": "stream",
     "text": [
      "[[50 45 56 78]\n",
      " [78 89 59 90]\n",
      " [89 78 69 70]\n",
      " [67 69 89 70]\n",
      " [90 89 80 84]\n",
      " [89 59 90 78]]\n"
     ]
    }
   ],
   "source": [
    "weights = np.array([[50, 45, 56, 78],[78, 89, 59, 90],[89, 78, 69, 70],[67, 69, 89, 70],[90,89, 80, 84],[89, 59, 90, 78]])\n",
    "print(weights)"
   ]
  },
  {
   "cell_type": "markdown",
   "metadata": {},
   "source": [
    "## 3. Defining the attributes of ndarray objects"
   ]
  },
  {
   "cell_type": "code",
   "execution_count": 9,
   "metadata": {},
   "outputs": [
    {
     "name": "stdout",
     "output_type": "stream",
     "text": [
      "dimension: 1\n",
      "shape: (6,)\n",
      "size: 6\n",
      "dtype: int32\n",
      "strides: (4,)\n"
     ]
    }
   ],
   "source": [
    "print(\"dimension:\",heights_np.ndim)\n",
    "print(\"shape:\",heights_np.shape)\n",
    "print(\"size:\",heights_np.size)\n",
    "print(\"dtype:\",heights_np.dtype)\n",
    "print(\"strides:\", heights_np.strides)"
   ]
  },
  {
   "cell_type": "code",
   "execution_count": 10,
   "metadata": {},
   "outputs": [
    {
     "data": {
      "text/plain": [
       "24"
      ]
     },
     "execution_count": 10,
     "metadata": {},
     "output_type": "execute_result"
    }
   ],
   "source": [
    "weights.size"
   ]
  },
  {
   "cell_type": "markdown",
   "metadata": {},
   "source": [
    "## 4. Miscellaneous numpy arrays"
   ]
  },
  {
   "cell_type": "markdown",
   "metadata": {},
   "source": [
    "### 4.1. np.zeros()"
   ]
  },
  {
   "cell_type": "code",
   "execution_count": 11,
   "metadata": {},
   "outputs": [
    {
     "name": "stdout",
     "output_type": "stream",
     "text": [
      "[[0 0 0]\n",
      " [0 0 0]]\n"
     ]
    }
   ],
   "source": [
    "x= np.zeros(shape=(2,3), dtype =\"int32\", order =\"C\")\n",
    "print(x)"
   ]
  },
  {
   "cell_type": "markdown",
   "metadata": {},
   "source": [
    "### 4.2. np.arange()"
   ]
  },
  {
   "cell_type": "code",
   "execution_count": 12,
   "metadata": {},
   "outputs": [
    {
     "name": "stdout",
     "output_type": "stream",
     "text": [
      "[100 200 300 400 500 600 700 800 900]\n"
     ]
    }
   ],
   "source": [
    "x = np.arange(start=100 , stop =1000, step=100, dtype=\"int32\")\n",
    "print(x)"
   ]
  },
  {
   "cell_type": "markdown",
   "metadata": {},
   "source": [
    "### 4.3. np.linspace()"
   ]
  },
  {
   "cell_type": "code",
   "execution_count": 13,
   "metadata": {},
   "outputs": [],
   "source": [
    "x_lin = np.linspace(start=10, stop=50,num= 30)"
   ]
  },
  {
   "cell_type": "code",
   "execution_count": 14,
   "metadata": {},
   "outputs": [
    {
     "data": {
      "text/plain": [
       "array([10.        , 11.37931034, 12.75862069, 14.13793103, 15.51724138,\n",
       "       16.89655172, 18.27586207, 19.65517241, 21.03448276, 22.4137931 ,\n",
       "       23.79310345, 25.17241379, 26.55172414, 27.93103448, 29.31034483,\n",
       "       30.68965517, 32.06896552, 33.44827586, 34.82758621, 36.20689655,\n",
       "       37.5862069 , 38.96551724, 40.34482759, 41.72413793, 43.10344828,\n",
       "       44.48275862, 45.86206897, 47.24137931, 48.62068966, 50.        ])"
      ]
     },
     "execution_count": 14,
     "metadata": {},
     "output_type": "execute_result"
    }
   ],
   "source": [
    "x_lin"
   ]
  },
  {
   "cell_type": "markdown",
   "metadata": {},
   "source": [
    "### 4.4. np.full()"
   ]
  },
  {
   "cell_type": "code",
   "execution_count": 15,
   "metadata": {},
   "outputs": [
    {
     "data": {
      "text/plain": [
       "array([[3, 3, 3, 3, 3, 3],\n",
       "       [3, 3, 3, 3, 3, 3],\n",
       "       [3, 3, 3, 3, 3, 3],\n",
       "       [3, 3, 3, 3, 3, 3],\n",
       "       [3, 3, 3, 3, 3, 3]])"
      ]
     },
     "execution_count": 15,
     "metadata": {},
     "output_type": "execute_result"
    }
   ],
   "source": [
    "np.full((5,6), 3)"
   ]
  },
  {
   "cell_type": "markdown",
   "metadata": {},
   "source": [
    "##  5. Resize, Reshape, flatten and ravel()"
   ]
  },
  {
   "cell_type": "markdown",
   "metadata": {},
   "source": [
    "Let's reshape the numpy array"
   ]
  },
  {
   "cell_type": "code",
   "execution_count": 16,
   "metadata": {},
   "outputs": [
    {
     "data": {
      "text/plain": [
       "(6, 4)"
      ]
     },
     "execution_count": 16,
     "metadata": {},
     "output_type": "execute_result"
    }
   ],
   "source": [
    "weights.shape"
   ]
  },
  {
   "cell_type": "code",
   "execution_count": 17,
   "metadata": {},
   "outputs": [
    {
     "data": {
      "text/plain": [
       "array([[50, 45, 56, 78],\n",
       "       [78, 89, 59, 90],\n",
       "       [89, 78, 69, 70],\n",
       "       [67, 69, 89, 70],\n",
       "       [90, 89, 80, 84],\n",
       "       [89, 59, 90, 78]])"
      ]
     },
     "execution_count": 17,
     "metadata": {},
     "output_type": "execute_result"
    }
   ],
   "source": [
    "weights"
   ]
  },
  {
   "cell_type": "code",
   "execution_count": 18,
   "metadata": {},
   "outputs": [
    {
     "data": {
      "text/plain": [
       "array([165, 170, 171, 180, 189, 178])"
      ]
     },
     "execution_count": 18,
     "metadata": {},
     "output_type": "execute_result"
    }
   ],
   "source": [
    "heights_np"
   ]
  },
  {
   "cell_type": "code",
   "execution_count": 23,
   "metadata": {},
   "outputs": [],
   "source": [
    "weights =weights.reshape((4,6))"
   ]
  },
  {
   "cell_type": "code",
   "execution_count": 24,
   "metadata": {},
   "outputs": [
    {
     "data": {
      "text/plain": [
       "(4, 6)"
      ]
     },
     "execution_count": 24,
     "metadata": {},
     "output_type": "execute_result"
    }
   ],
   "source": [
    "weights.shape"
   ]
  },
  {
   "cell_type": "code",
   "execution_count": 25,
   "metadata": {},
   "outputs": [],
   "source": [
    "# let's add a dimension through reshape\n",
    "weights = weights.reshape((2,6,2))"
   ]
  },
  {
   "cell_type": "code",
   "execution_count": 26,
   "metadata": {},
   "outputs": [
    {
     "data": {
      "text/plain": [
       "array([[[50, 45],\n",
       "        [56, 78],\n",
       "        [78, 89],\n",
       "        [59, 90],\n",
       "        [89, 78],\n",
       "        [69, 70]],\n",
       "\n",
       "       [[67, 69],\n",
       "        [89, 70],\n",
       "        [90, 89],\n",
       "        [80, 84],\n",
       "        [89, 59],\n",
       "        [90, 78]]])"
      ]
     },
     "execution_count": 26,
     "metadata": {},
     "output_type": "execute_result"
    }
   ],
   "source": [
    "weights"
   ]
  },
  {
   "cell_type": "code",
   "execution_count": 27,
   "metadata": {},
   "outputs": [],
   "source": [
    "weights_flattened = weights.flatten()"
   ]
  },
  {
   "cell_type": "code",
   "execution_count": 28,
   "metadata": {},
   "outputs": [
    {
     "data": {
      "text/plain": [
       "array([50, 45, 56, 78, 78, 89, 59, 90, 89, 78, 69, 70, 67, 69, 89, 70, 90,\n",
       "       89, 80, 84, 89, 59, 90, 78])"
      ]
     },
     "execution_count": 28,
     "metadata": {},
     "output_type": "execute_result"
    }
   ],
   "source": [
    "weights_flattened"
   ]
  },
  {
   "cell_type": "code",
   "execution_count": 29,
   "metadata": {},
   "outputs": [],
   "source": [
    "weights_raveld = weights.ravel()"
   ]
  },
  {
   "cell_type": "code",
   "execution_count": 30,
   "metadata": {},
   "outputs": [
    {
     "data": {
      "text/plain": [
       "array([50, 45, 56, 78, 78, 89, 59, 90, 89, 78, 69, 70, 67, 69, 89, 70, 90,\n",
       "       89, 80, 84, 89, 59, 90, 78])"
      ]
     },
     "execution_count": 30,
     "metadata": {},
     "output_type": "execute_result"
    }
   ],
   "source": [
    "weights_raveld"
   ]
  },
  {
   "cell_type": "markdown",
   "metadata": {},
   "source": [
    "## 6.Array indexing"
   ]
  },
  {
   "cell_type": "code",
   "execution_count": 31,
   "metadata": {},
   "outputs": [],
   "source": [
    "weights_or =weights.reshape((6,4))"
   ]
  },
  {
   "cell_type": "code",
   "execution_count": 32,
   "metadata": {},
   "outputs": [
    {
     "name": "stdout",
     "output_type": "stream",
     "text": [
      "accessing single element in 1d array 180\n",
      "accessing single element in 2d array 70\n"
     ]
    }
   ],
   "source": [
    "print(\"accessing single element in 1d array\", heights[3])\n",
    "print(\"accessing single element in 2d array\",weights_or[3][3])"
   ]
  },
  {
   "cell_type": "code",
   "execution_count": 33,
   "metadata": {},
   "outputs": [
    {
     "data": {
      "text/plain": [
       "(2, 6, 2)"
      ]
     },
     "execution_count": 33,
     "metadata": {},
     "output_type": "execute_result"
    }
   ],
   "source": [
    "weights.shape"
   ]
  },
  {
   "cell_type": "code",
   "execution_count": 34,
   "metadata": {},
   "outputs": [
    {
     "name": "stdout",
     "output_type": "stream",
     "text": [
      "heights [165 170 171 180 189 178]\n",
      "weights [[[50 45]\n",
      "  [56 78]\n",
      "  [78 89]\n",
      "  [59 90]\n",
      "  [89 78]\n",
      "  [69 70]]\n",
      "\n",
      " [[67 69]\n",
      "  [89 70]\n",
      "  [90 89]\n",
      "  [80 84]\n",
      "  [89 59]\n",
      "  [90 78]]]\n"
     ]
    }
   ],
   "source": [
    "print(\"heights\", heights_np)\n",
    "print(\"weights\", weights)"
   ]
  },
  {
   "cell_type": "code",
   "execution_count": 35,
   "metadata": {},
   "outputs": [
    {
     "data": {
      "text/plain": [
       "array([165, 170])"
      ]
     },
     "execution_count": 35,
     "metadata": {},
     "output_type": "execute_result"
    }
   ],
   "source": [
    "heights_np[:2]"
   ]
  },
  {
   "cell_type": "code",
   "execution_count": 36,
   "metadata": {},
   "outputs": [
    {
     "data": {
      "text/plain": [
       "array([171, 180, 189, 178])"
      ]
     },
     "execution_count": 36,
     "metadata": {},
     "output_type": "execute_result"
    }
   ],
   "source": [
    "heights_np[2:]"
   ]
  },
  {
   "cell_type": "code",
   "execution_count": 37,
   "metadata": {},
   "outputs": [
    {
     "data": {
      "text/plain": [
       "array([171])"
      ]
     },
     "execution_count": 37,
     "metadata": {},
     "output_type": "execute_result"
    }
   ],
   "source": [
    "heights_np[2:3]"
   ]
  },
  {
   "cell_type": "code",
   "execution_count": 38,
   "metadata": {},
   "outputs": [
    {
     "data": {
      "text/plain": [
       "array([[[50, 45],\n",
       "        [78, 89],\n",
       "        [89, 78]],\n",
       "\n",
       "       [[67, 69],\n",
       "        [90, 89],\n",
       "        [89, 59]]])"
      ]
     },
     "execution_count": 38,
     "metadata": {},
     "output_type": "execute_result"
    }
   ],
   "source": [
    "weights[:2, ::2]"
   ]
  },
  {
   "cell_type": "code",
   "execution_count": 39,
   "metadata": {},
   "outputs": [
    {
     "data": {
      "text/plain": [
       "array([[[59, 90],\n",
       "        [89, 78],\n",
       "        [69, 70]],\n",
       "\n",
       "       [[80, 84],\n",
       "        [89, 59],\n",
       "        [90, 78]]])"
      ]
     },
     "execution_count": 39,
     "metadata": {},
     "output_type": "execute_result"
    }
   ],
   "source": [
    "weights[:3, 3::]"
   ]
  },
  {
   "cell_type": "code",
   "execution_count": 40,
   "metadata": {},
   "outputs": [
    {
     "data": {
      "text/plain": [
       "array([[[50],\n",
       "        [56],\n",
       "        [78]],\n",
       "\n",
       "       [[67],\n",
       "        [89],\n",
       "        [90]]])"
      ]
     },
     "execution_count": 40,
     "metadata": {},
     "output_type": "execute_result"
    }
   ],
   "source": [
    "weights[:3, :3, :1]"
   ]
  },
  {
   "cell_type": "markdown",
   "metadata": {},
   "source": [
    "## 7.Manipulating `Numpy` arrays!!"
   ]
  },
  {
   "cell_type": "markdown",
   "metadata": {},
   "source": [
    "### 7.1. Arithmetic operations"
   ]
  },
  {
   "cell_type": "code",
   "execution_count": 41,
   "metadata": {},
   "outputs": [],
   "source": [
    "weights = weights. reshape((6,4))"
   ]
  },
  {
   "cell_type": "code",
   "execution_count": 42,
   "metadata": {},
   "outputs": [],
   "source": [
    "heights_np\n",
    "heights_2 = np.array([165, 175, 180, 189, 187, 186])"
   ]
  },
  {
   "cell_type": "code",
   "execution_count": 43,
   "metadata": {},
   "outputs": [
    {
     "data": {
      "text/plain": [
       "array([330, 345, 351, 369, 376, 364])"
      ]
     },
     "execution_count": 43,
     "metadata": {},
     "output_type": "execute_result"
    }
   ],
   "source": [
    "heights_add = heights_np+heights_2\n",
    "heights_add\n",
    "#perform subtraction , multiplication and division as well for heights_np and heights_2"
   ]
  },
  {
   "cell_type": "code",
   "execution_count": 44,
   "metadata": {},
   "outputs": [
    {
     "name": "stdout",
     "output_type": "stream",
     "text": [
      "[330 345 351 369 376 364]\n"
     ]
    }
   ],
   "source": [
    "added = np.add(heights_2 , heights_np)\n",
    "print(added)"
   ]
  },
  {
   "cell_type": "markdown",
   "metadata": {},
   "source": [
    "### 7.2. Logical operations"
   ]
  },
  {
   "cell_type": "code",
   "execution_count": 47,
   "metadata": {},
   "outputs": [],
   "source": [
    "x= np.array([1,2,3])\n",
    "y= np.array([0,4,3])"
   ]
  },
  {
   "cell_type": "code",
   "execution_count": 48,
   "metadata": {},
   "outputs": [
    {
     "data": {
      "text/plain": [
       "array([ True,  True,  True])"
      ]
     },
     "execution_count": 48,
     "metadata": {},
     "output_type": "execute_result"
    }
   ],
   "source": [
    "np.logical_or(x,y)"
   ]
  },
  {
   "cell_type": "markdown",
   "metadata": {},
   "source": [
    "### 7.3. Comparison operators"
   ]
  },
  {
   "cell_type": "code",
   "execution_count": 50,
   "metadata": {},
   "outputs": [
    {
     "data": {
      "text/plain": [
       "False"
      ]
     },
     "execution_count": 50,
     "metadata": {},
     "output_type": "execute_result"
    }
   ],
   "source": [
    "np.array_equal(x,y)"
   ]
  },
  {
   "cell_type": "markdown",
   "metadata": {},
   "source": [
    "## 8. Broadcasting"
   ]
  },
  {
   "cell_type": "code",
   "execution_count": 51,
   "metadata": {},
   "outputs": [],
   "source": [
    "heights_np= heights_np.reshape((6,1))"
   ]
  },
  {
   "cell_type": "code",
   "execution_count": 52,
   "metadata": {},
   "outputs": [],
   "source": [
    "broad_np = heights_np+ weights"
   ]
  },
  {
   "cell_type": "code",
   "execution_count": 53,
   "metadata": {},
   "outputs": [
    {
     "name": "stdout",
     "output_type": "stream",
     "text": [
      "[[50 45 56 78]\n",
      " [78 89 59 90]\n",
      " [89 78 69 70]\n",
      " [67 69 89 70]\n",
      " [90 89 80 84]\n",
      " [89 59 90 78]]\n"
     ]
    }
   ],
   "source": [
    "print(weights)"
   ]
  },
  {
   "cell_type": "code",
   "execution_count": 54,
   "metadata": {},
   "outputs": [
    {
     "data": {
      "text/plain": [
       "array([[215, 210, 221, 243],\n",
       "       [248, 259, 229, 260],\n",
       "       [260, 249, 240, 241],\n",
       "       [247, 249, 269, 250],\n",
       "       [279, 278, 269, 273],\n",
       "       [267, 237, 268, 256]])"
      ]
     },
     "execution_count": 54,
     "metadata": {},
     "output_type": "execute_result"
    }
   ],
   "source": [
    "broad_np"
   ]
  },
  {
   "cell_type": "code",
   "execution_count": 55,
   "metadata": {},
   "outputs": [
    {
     "data": {
      "text/plain": [
       "array([[[1.97894484, 1.43799776, 1.70308263, 1.33930084],\n",
       "        [1.97894484, 1.43799776, 1.70308263, 1.33930084],\n",
       "        [1.97894484, 1.43799776, 1.70308263, 1.33930084]],\n",
       "\n",
       "       [[1.77623294, 1.48936691, 1.43532011, 1.686921  ],\n",
       "        [1.77623294, 1.48936691, 1.43532011, 1.686921  ],\n",
       "        [1.77623294, 1.48936691, 1.43532011, 1.686921  ]],\n",
       "\n",
       "       [[1.60844488, 1.50197812, 1.50461608, 1.0813936 ],\n",
       "        [1.60844488, 1.50197812, 1.50461608, 1.0813936 ],\n",
       "        [1.60844488, 1.50197812, 1.50461608, 1.0813936 ]],\n",
       "\n",
       "       [[1.65859685, 1.75912075, 1.33430716, 1.83482131],\n",
       "        [1.65859685, 1.75912075, 1.33430716, 1.83482131],\n",
       "        [1.65859685, 1.75912075, 1.33430716, 1.83482131]],\n",
       "\n",
       "       [[1.12683152, 1.29840386, 1.34421852, 1.14237752],\n",
       "        [1.12683152, 1.29840386, 1.34421852, 1.14237752],\n",
       "        [1.12683152, 1.29840386, 1.34421852, 1.14237752]]])"
      ]
     },
     "execution_count": 55,
     "metadata": {},
     "output_type": "execute_result"
    }
   ],
   "source": [
    "# Import `numpy` as `np`\n",
    "import numpy as np\n",
    "\n",
    "# Initialize `x` and `y`\n",
    "x = np.ones((3,4))\n",
    "y = np.random.random((5,1,4))\n",
    "\n",
    "# Add `x` and `y`\n",
    "x + y"
   ]
  },
  {
   "cell_type": "markdown",
   "metadata": {},
   "source": [
    "## 9.Matrix multiplication"
   ]
  },
  {
   "cell_type": "code",
   "execution_count": 56,
   "metadata": {},
   "outputs": [
    {
     "name": "stdout",
     "output_type": "stream",
     "text": [
      "matrixA\n",
      " [[1 1 8]\n",
      " [0 1 9]\n",
      " [9 0 8]]\n",
      "MATRIXB\n",
      " [[2 0 0]\n",
      " [3 4 9]\n",
      " [7 8 9]]\n",
      " element wise multiplication\n",
      " [[ 2  0  0]\n",
      " [ 0  4 81]\n",
      " [63  0 72]]\n",
      "Matrix product\n",
      " [[61 68 81]\n",
      " [66 76 90]\n",
      " [74 64 72]]\n",
      "Dot matrix\n",
      " [[61 68 81]\n",
      " [66 76 90]\n",
      " [74 64 72]]\n"
     ]
    }
   ],
   "source": [
    "A = np.array([[1,1,8],[0,1,9],[9,0,8]])\n",
    "print(\"matrixA\\n\",A)\n",
    "\n",
    "B = np.array([[2,0,0],[3,4,9],[7,8,9]])\n",
    "print('MATRIXB\\n',B)\n",
    "print(\" element wise multiplication\\n\",A*B)\n",
    "print(\"Matrix product\\n\", A@B)\n",
    "# matrix A = (2 ,3) , matrix B= (3,4), output matrix =( 2,4)\n",
    "print(\"Dot matrix\\n\",A.dot(B))"
   ]
  },
  {
   "cell_type": "markdown",
   "metadata": {},
   "source": [
    "## 10. Arrays with `random` numbers"
   ]
  },
  {
   "cell_type": "code",
   "execution_count": 57,
   "metadata": {},
   "outputs": [
    {
     "name": "stdout",
     "output_type": "stream",
     "text": [
      "a [[1 1 1]\n",
      " [1 1 1]\n",
      " [1 1 1]\n",
      " [1 1 1]]\n",
      "[[0.55117913 0.97307319 0.67752006]\n",
      " [0.31348439 0.95946908 0.54678847]\n",
      " [0.96775758 0.69823837 0.16464171]\n",
      " [0.90326547 0.53730456 0.26628293]]\n",
      "[[1.55117913 1.97307319 1.67752006]\n",
      " [1.31348439 1.95946908 1.54678847]\n",
      " [1.96775758 1.69823837 1.16464171]\n",
      " [1.90326547 1.53730456 1.26628293]]\n"
     ]
    }
   ],
   "source": [
    "a = np.ones((4,3), dtype= int)\n",
    "print(\"a\",a)\n",
    "b = np.random.random((4,3)) # random numpy array generation\n",
    "print(b)\n",
    "b +=a  # addition\n",
    "print(b)"
   ]
  },
  {
   "cell_type": "code",
   "execution_count": 58,
   "metadata": {},
   "outputs": [
    {
     "name": "stdout",
     "output_type": "stream",
     "text": [
      "[4.17022005e-01 7.20324493e-01 1.14374817e-04 3.02332573e-01\n",
      " 1.46755891e-01 9.23385948e-02 1.86260211e-01 3.45560727e-01\n",
      " 3.96767474e-01 5.38816734e-01]\n"
     ]
    }
   ],
   "source": [
    "# generate random floating point values\n",
    "from numpy.random import seed\n",
    "from numpy.random import rand\n",
    "# seed random number generator\n",
    "seed(1)\n",
    "# generate random numbers between 0-1\n",
    "values = rand(10)\n",
    "print(values)"
   ]
  },
  {
   "cell_type": "markdown",
   "metadata": {},
   "source": [
    "## 11. Concatenate, stack `Numpy` arrays"
   ]
  },
  {
   "cell_type": "code",
   "execution_count": 59,
   "metadata": {},
   "outputs": [
    {
     "name": "stdout",
     "output_type": "stream",
     "text": [
      "[ 1  2 34  5  1  4  5  6]\n",
      "concatenate\n",
      " [ 1  2 34  5  1  4  5  6]\n",
      "stack row wise\n",
      "\n",
      "[[ 1  2 34  5]\n",
      " [ 1  4  5  6]]\n",
      "repetition\n",
      "[ 1  2 34  5  1  4  5  6]\n",
      "stack horizantally\n",
      "[ 1  2 34  5  1  4  5  6]\n",
      "stack column wise\n",
      "[[ 1  1]\n",
      " [ 2  4]\n",
      " [34  5]\n",
      " [ 5  6]]\n",
      "column wise repeat\n",
      "[[ 1  1]\n",
      " [ 2  4]\n",
      " [34  5]\n",
      " [ 5  6]]\n"
     ]
    }
   ],
   "source": [
    "my_array = np.array([1,2,34,5])\n",
    "x= np.array([1,4,5,6])\n",
    "y = np.append(my_array, x)\n",
    "print(y)\n",
    "# Concatentate `my_array` and `x`\n",
    "print('concatenate\\n',np.concatenate((my_array,x)))\n",
    "\n",
    "# Stack arrays row-wise\n",
    "print(\"stack row wise\\n\")\n",
    "print(np.vstack((my_array, x)))\n",
    "\n",
    "# Stack arrays row-wise\n",
    "print(\"repetition\")\n",
    "print(np.r_[ my_array,x])\n",
    "\n",
    "# Stack arrays horizontally\n",
    "print(\"stack horizantally\")\n",
    "print(np.hstack(( my_array,x)))\n",
    "\n",
    "# Stack arrays column-wise\n",
    "print(\"stack column wise\")\n",
    "print(np.column_stack(( my_array,x)))\n",
    "\n",
    "# Stack arrays column-wise\n",
    "print(\"column wise repeat\")\n",
    "print(np.c_[ my_array,x])"
   ]
  },
  {
   "cell_type": "markdown",
   "metadata": {},
   "source": [
    "## 12. Visualize `Numpy` array"
   ]
  },
  {
   "cell_type": "code",
   "execution_count": 63,
   "metadata": {},
   "outputs": [
    {
     "data": {
      "image/png": "[encoded data removed]",
      "text/plain": [
       "<Figure size 432x288 with 1 Axes>"
      ]
     },
     "metadata": {
      "needs_background": "light"
     },
     "output_type": "display_data"
    }
   ],
   "source": [
    "import matplotlib.pyplot as plt\n",
    "rng= np.random.RandomState(10)  \n",
    "a= np.hstack((rng.normal(size=1000),rng.normal(loc=5, scale=2, size=1000)))\n",
    "_ = plt.hist(a, bins='auto')\n",
    "plt.title(\"Histogram\")\n",
    "plt.show()"
   ]
  },
  {
   "cell_type": "code",
   "execution_count": 62,
   "metadata": {},
   "outputs": [
    {
     "data": {
      "image/png": "[encoded data removed]",
      "text/plain": [
       "<Figure size 432x288 with 2 Axes>"
      ]
     },
     "metadata": {
      "needs_background": "light"
     },
     "output_type": "display_data"
    }
   ],
   "source": [
    "\n",
    "# Create an array\n",
    "points = np.arange(-5, 5, 0.01)\n",
    "\n",
    "# Make a meshgrid\n",
    "xs, ys = np.meshgrid(points, points)\n",
    "z = np.sqrt(xs ** 2 + ys ** 2)\n",
    "\n",
    "# Display the image on the axes\n",
    "plt.imshow(z, cmap=plt.cm.Reds)\n",
    "\n",
    "# Draw a color bar\n",
    "plt.colorbar()\n",
    "\n",
    "# Show the plot\n",
    "plt.show()"
   ]
  },
  {
   "cell_type": "markdown",
   "metadata": {},
   "source": [
    "## 12. Save the numpy ndarray object into a npy file"
   ]
  },
  {
   "cell_type": "code",
   "execution_count": 64,
   "metadata": {},
   "outputs": [],
   "source": [
    "import numpy as np\n",
    "x = np.arange(0.0,5.0,1.0)\n",
    "np.savetxt('test.txt', x, delimiter=',')"
   ]
  },
  {
   "cell_type": "code",
   "execution_count": null,
   "metadata": {},
   "outputs": [],
   "source": []
  }
 ],
 "metadata": {
  "kernelspec": {
   "display_name": "Python 3",
   "language": "python",
   "name": "python3"
  },
  "language_info": {
   "codemirror_mode": {
    "name": "ipython",
    "version": 3
   },
   "file_extension": ".py",
   "mimetype": "text/x-python",
   "name": "python",
   "nbconvert_exporter": "python",
   "pygments_lexer": "ipython3",
   "version": "3.7.0"
  }
 },
 "nbformat": 4,
 "nbformat_minor": 2
}
